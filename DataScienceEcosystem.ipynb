{
 "cells": [
  {
   "cell_type": "markdown",
   "id": "ef7a54a8-5966-420f-a025-68fc7fda42fe",
   "metadata": {},
   "source": [
    "# Data Science Tools and Ecosystem"
   ]
  },
  {
   "cell_type": "markdown",
   "id": "6ac75571-1f3d-4dc0-8d3a-1eb133ec9540",
   "metadata": {
    "tags": []
   },
   "source": [
    "In this notebook, Data Science Tools and Ecosystem are summarized."
   ]
  },
  {
   "cell_type": "markdown",
   "id": "07e17922-5b57-40db-93db-1cb6a072a79e",
   "metadata": {},
   "source": [
    "Some of the popular languages that Data Scientists use are:\n",
    "1. Python\n",
    "2. R\n",
    "3. SQL\n",
    "4. Scala\n",
    "5. Java\n",
    "6. C++\n",
    "7. Julia"
   ]
  },
  {
   "cell_type": "markdown",
   "id": "d5f73f23-4213-48ad-a1aa-5b363f68062e",
   "metadata": {},
   "source": [
    "Some of the commonly used libraries used by Data Scientists include:\n",
    "1. matplotlib\n",
    "2. Seaborn\n",
    "3. Scikit-learn\n",
    "4. Keras"
   ]
  },
  {
   "cell_type": "markdown",
   "id": "6a52ec33-db64-48f2-a7d2-0410acf84719",
   "metadata": {},
   "source": [
    "**Objectives**\n",
    " - List popular languages for Data Science\n",
    " - List commonly used libraries by Data Scientists\n",
    " - List Data Science Tools\n",
    " - Evaluate arithmetic expressions in Python"
   ]
  },
  {
   "cell_type": "markdown",
   "id": "1e6eda47-632c-4c00-a939-5770f5688ace",
   "metadata": {
    "tags": []
   },
   "source": [
    "|Data Science Tools|\n",
    "| ---------- |\n",
    "| Jypyter Notebook |\n",
    "| RStudio |\n",
    "| Apache Zeppelin |"
   ]
  },
  {
   "cell_type": "markdown",
   "id": "dcc1822c-fdf7-4f53-8777-2b401fba3084",
   "metadata": {},
   "source": [
    "### Below are a few examples of evaluating arithmetic expressions in Python."
   ]
  },
  {
   "cell_type": "code",
   "execution_count": 7,
   "id": "334b2f7e-1dae-4ef3-bd58-742448da879f",
   "metadata": {
    "tags": []
   },
   "outputs": [
    {
     "data": {
      "text/plain": [
       "17"
      ]
     },
     "execution_count": 7,
     "metadata": {},
     "output_type": "execute_result"
    }
   ],
   "source": [
    "# This is a simple arithmetic expresion to multiply then add integers.\n",
    "(3*4)+5"
   ]
  },
  {
   "cell_type": "code",
   "execution_count": 8,
   "id": "3893424f-9857-4e32-83ee-b766003e00bb",
   "metadata": {
    "tags": []
   },
   "outputs": [
    {
     "name": "stdout",
     "output_type": "stream",
     "text": [
      "3.3333333333333335\n"
     ]
    }
   ],
   "source": [
    "# This will convert 200 minutes to hours by dividing by 60.\n",
    "minutes = 200\n",
    "hours = minutes/60\n",
    "print (hours)"
   ]
  },
  {
   "cell_type": "markdown",
   "id": "c8bb5611-ca6d-45fa-bedb-c5f0f4b63ba1",
   "metadata": {},
   "source": [
    "## Author\n",
    "\n",
    "Charles Farag"
   ]
  },
  {
   "cell_type": "code",
   "execution_count": null,
   "id": "c6fc50d2-b6ff-4dac-ae6e-dccd17e26f6d",
   "metadata": {},
   "outputs": [],
   "source": []
  }
 ],
 "metadata": {
  "kernelspec": {
   "display_name": "Python",
   "language": "python",
   "name": "conda-env-python-py"
  },
  "language_info": {
   "codemirror_mode": {
    "name": "ipython",
    "version": 3
   },
   "file_extension": ".py",
   "mimetype": "text/x-python",
   "name": "python",
   "nbconvert_exporter": "python",
   "pygments_lexer": "ipython3",
   "version": "3.7.12"
  }
 },
 "nbformat": 4,
 "nbformat_minor": 5
}
